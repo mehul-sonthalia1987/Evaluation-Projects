{
 "cells": [
  {
   "cell_type": "code",
   "execution_count": null,
   "id": "ad3c1983",
   "metadata": {},
   "outputs": [],
   "source": []
  },
  {
   "cell_type": "markdown",
   "id": "d40a8c0b",
   "metadata": {},
   "source": [
    "# Census Income Project\n",
    "Problem Statement:\n",
    "\n",
    "\n",
    "This data was extracted from the 1994 Census bureau database by Ronny Kohavi and Barry Becker (Data Mining and Visualization, Silicon Graphics). A set of reasonably clean records was extracted using the following conditions: ((AAGE>16) && (AGI>100) && (AFNLWGT>1) && (HRSWK>0)). The prediction task is to determine whether a person makes over $50K a year.\n",
    "\n",
    "Description of fnlwgt (final weight)\n",
    "The weights on the Current Population Survey (CPS) files are controlled to independent estimates of the civilian non-institutional population of the US. These are prepared monthly for us by Population Division here at the Census Bureau. We use 3 sets of controls. These are:\n",
    "\n",
    "A single cell estimate of the population 16+ for each state.\n",
    "\n",
    "Controls for Hispanic Origin by age and sex.\n",
    "\n",
    "Controls by Race, age and sex.\n",
    "\n",
    "We use all three sets of controls in our weighting program and \"rake\" through them 6 times so that by the end we come back to all the controls we used. The term estimate refers to population totals derived from CPS by creating \"weighted tallies\" of any specified socio-economic characteristics of the population. People with similar demographic characteristics should have similar weights. There is one important caveat to remember about this statement. That is that since the CPS sample is actually a collection of 51 state samples, each with its own probability of selection, the statement only applies within state.\n",
    "\n",
    "\n",
    "\n",
    "To download the dataset, use the link given below. \n",
    "\n",
    "Downlaod Files:\n",
    "https://raw.githubusercontent.com/dsrscientist/dataset1/master/census_income.csv"
   ]
  },
  {
   "cell_type": "markdown",
   "id": "799c0095",
   "metadata": {},
   "source": [
    "# Import necessary Python Modules"
   ]
  },
  {
   "cell_type": "code",
   "execution_count": 1,
   "id": "a91fdae2",
   "metadata": {},
   "outputs": [],
   "source": [
    "import pandas as pd\n",
    "import numpy as np\n",
    "from sklearn.linear_model import LinearRegression, Lasso, LassoCV\n",
    "from sklearn.linear_model import LogisticRegression\n",
    "from sklearn.neighbors import KNeighborsClassifier\n",
    "from sklearn.tree import DecisionTreeClassifier\n",
    "\n",
    "from sklearn.preprocessing import StandardScaler\n",
    "from sklearn.model_selection import train_test_split,cross_val_score,GridSearchCV\n",
    "from sklearn.feature_selection import SelectKBest,f_classif\n",
    "from sklearn.metrics import confusion_matrix, classification_report, accuracy_score, roc_curve, roc_auc_score,recall_score,precision_score,f1_score,mean_absolute_error,mean_squared_error\n",
    "from statsmodels.stats.outliers_influence import variance_inflation_factor\n",
    "\t\n",
    "\n",
    "import statsmodels.api as sm\n",
    "import seaborn as sns\n",
    "import matplotlib.pyplot as plt\n",
    "#import plotly.graph_objs as go\n",
    "\n",
    "import pickle\n",
    "import warnings\n",
    "warnings.filterwarnings('ignore')"
   ]
  },
  {
   "cell_type": "markdown",
   "id": "62efe34d",
   "metadata": {},
   "source": [
    "# DATA EXPLORATION"
   ]
  },
  {
   "cell_type": "code",
   "execution_count": 2,
   "id": "63147f3d",
   "metadata": {},
   "outputs": [
    {
     "data": {
      "text/html": [
       "<div>\n",
       "<style scoped>\n",
       "    .dataframe tbody tr th:only-of-type {\n",
       "        vertical-align: middle;\n",
       "    }\n",
       "\n",
       "    .dataframe tbody tr th {\n",
       "        vertical-align: top;\n",
       "    }\n",
       "\n",
       "    .dataframe thead th {\n",
       "        text-align: right;\n",
       "    }\n",
       "</style>\n",
       "<table border=\"1\" class=\"dataframe\">\n",
       "  <thead>\n",
       "    <tr style=\"text-align: right;\">\n",
       "      <th></th>\n",
       "      <th>Age</th>\n",
       "      <th>Workclass</th>\n",
       "      <th>Fnlwgt</th>\n",
       "      <th>Education</th>\n",
       "      <th>Education_num</th>\n",
       "      <th>Marital_status</th>\n",
       "      <th>Occupation</th>\n",
       "      <th>Relationship</th>\n",
       "      <th>Race</th>\n",
       "      <th>Sex</th>\n",
       "      <th>Capital_gain</th>\n",
       "      <th>Capital_loss</th>\n",
       "      <th>Hours_per_week</th>\n",
       "      <th>Native_country</th>\n",
       "      <th>Income</th>\n",
       "    </tr>\n",
       "  </thead>\n",
       "  <tbody>\n",
       "    <tr>\n",
       "      <th>0</th>\n",
       "      <td>50</td>\n",
       "      <td>Self-emp-not-inc</td>\n",
       "      <td>83311</td>\n",
       "      <td>Bachelors</td>\n",
       "      <td>13</td>\n",
       "      <td>Married-civ-spouse</td>\n",
       "      <td>Exec-managerial</td>\n",
       "      <td>Husband</td>\n",
       "      <td>White</td>\n",
       "      <td>Male</td>\n",
       "      <td>0</td>\n",
       "      <td>0</td>\n",
       "      <td>13</td>\n",
       "      <td>United-States</td>\n",
       "      <td>&lt;=50K</td>\n",
       "    </tr>\n",
       "    <tr>\n",
       "      <th>1</th>\n",
       "      <td>38</td>\n",
       "      <td>Private</td>\n",
       "      <td>215646</td>\n",
       "      <td>HS-grad</td>\n",
       "      <td>9</td>\n",
       "      <td>Divorced</td>\n",
       "      <td>Handlers-cleaners</td>\n",
       "      <td>Not-in-family</td>\n",
       "      <td>White</td>\n",
       "      <td>Male</td>\n",
       "      <td>0</td>\n",
       "      <td>0</td>\n",
       "      <td>40</td>\n",
       "      <td>United-States</td>\n",
       "      <td>&lt;=50K</td>\n",
       "    </tr>\n",
       "    <tr>\n",
       "      <th>2</th>\n",
       "      <td>53</td>\n",
       "      <td>Private</td>\n",
       "      <td>234721</td>\n",
       "      <td>11th</td>\n",
       "      <td>7</td>\n",
       "      <td>Married-civ-spouse</td>\n",
       "      <td>Handlers-cleaners</td>\n",
       "      <td>Husband</td>\n",
       "      <td>Black</td>\n",
       "      <td>Male</td>\n",
       "      <td>0</td>\n",
       "      <td>0</td>\n",
       "      <td>40</td>\n",
       "      <td>United-States</td>\n",
       "      <td>&lt;=50K</td>\n",
       "    </tr>\n",
       "    <tr>\n",
       "      <th>3</th>\n",
       "      <td>28</td>\n",
       "      <td>Private</td>\n",
       "      <td>338409</td>\n",
       "      <td>Bachelors</td>\n",
       "      <td>13</td>\n",
       "      <td>Married-civ-spouse</td>\n",
       "      <td>Prof-specialty</td>\n",
       "      <td>Wife</td>\n",
       "      <td>Black</td>\n",
       "      <td>Female</td>\n",
       "      <td>0</td>\n",
       "      <td>0</td>\n",
       "      <td>40</td>\n",
       "      <td>Cuba</td>\n",
       "      <td>&lt;=50K</td>\n",
       "    </tr>\n",
       "    <tr>\n",
       "      <th>4</th>\n",
       "      <td>37</td>\n",
       "      <td>Private</td>\n",
       "      <td>284582</td>\n",
       "      <td>Masters</td>\n",
       "      <td>14</td>\n",
       "      <td>Married-civ-spouse</td>\n",
       "      <td>Exec-managerial</td>\n",
       "      <td>Wife</td>\n",
       "      <td>White</td>\n",
       "      <td>Female</td>\n",
       "      <td>0</td>\n",
       "      <td>0</td>\n",
       "      <td>40</td>\n",
       "      <td>United-States</td>\n",
       "      <td>&lt;=50K</td>\n",
       "    </tr>\n",
       "  </tbody>\n",
       "</table>\n",
       "</div>"
      ],
      "text/plain": [
       "   Age          Workclass  Fnlwgt   Education  Education_num  \\\n",
       "0   50   Self-emp-not-inc   83311   Bachelors             13   \n",
       "1   38            Private  215646     HS-grad              9   \n",
       "2   53            Private  234721        11th              7   \n",
       "3   28            Private  338409   Bachelors             13   \n",
       "4   37            Private  284582     Masters             14   \n",
       "\n",
       "        Marital_status          Occupation    Relationship    Race      Sex  \\\n",
       "0   Married-civ-spouse     Exec-managerial         Husband   White     Male   \n",
       "1             Divorced   Handlers-cleaners   Not-in-family   White     Male   \n",
       "2   Married-civ-spouse   Handlers-cleaners         Husband   Black     Male   \n",
       "3   Married-civ-spouse      Prof-specialty            Wife   Black   Female   \n",
       "4   Married-civ-spouse     Exec-managerial            Wife   White   Female   \n",
       "\n",
       "   Capital_gain  Capital_loss  Hours_per_week  Native_country  Income  \n",
       "0             0             0              13   United-States   <=50K  \n",
       "1             0             0              40   United-States   <=50K  \n",
       "2             0             0              40   United-States   <=50K  \n",
       "3             0             0              40            Cuba   <=50K  \n",
       "4             0             0              40   United-States   <=50K  "
      ]
     },
     "execution_count": 2,
     "metadata": {},
     "output_type": "execute_result"
    }
   ],
   "source": [
    "#loadindg the data set\n",
    "df = pd.read_csv(r'https://raw.githubusercontent.com/dsrscientist/dataset1/master/census_income.csv')\n",
    "#print first 5 rows of the dataset\n",
    "df.head()"
   ]
  },
  {
   "cell_type": "markdown",
   "id": "7562c17c",
   "metadata": {},
   "source": [
    "# Understanding the Dataset"
   ]
  },
  {
   "cell_type": "code",
   "execution_count": 3,
   "id": "1687b114",
   "metadata": {},
   "outputs": [
    {
     "data": {
      "text/plain": [
       "(32560, 15)"
      ]
     },
     "execution_count": 3,
     "metadata": {},
     "output_type": "execute_result"
    }
   ],
   "source": [
    "#Data Summary\n",
    "df.shape"
   ]
  },
  {
   "cell_type": "code",
   "execution_count": 4,
   "id": "bd13813d",
   "metadata": {},
   "outputs": [
    {
     "data": {
      "text/plain": [
       "24"
      ]
     },
     "execution_count": 4,
     "metadata": {},
     "output_type": "execute_result"
    }
   ],
   "source": [
    "#find duplicates\n",
    "df.duplicated().sum()"
   ]
  },
  {
   "cell_type": "code",
   "execution_count": 5,
   "id": "14d1914a",
   "metadata": {},
   "outputs": [],
   "source": [
    "#as we can see there are 24 duplicate columns and hencew we shall drop them"
   ]
  },
  {
   "cell_type": "code",
   "execution_count": 6,
   "id": "63841714",
   "metadata": {},
   "outputs": [
    {
     "data": {
      "text/html": [
       "<div>\n",
       "<style scoped>\n",
       "    .dataframe tbody tr th:only-of-type {\n",
       "        vertical-align: middle;\n",
       "    }\n",
       "\n",
       "    .dataframe tbody tr th {\n",
       "        vertical-align: top;\n",
       "    }\n",
       "\n",
       "    .dataframe thead th {\n",
       "        text-align: right;\n",
       "    }\n",
       "</style>\n",
       "<table border=\"1\" class=\"dataframe\">\n",
       "  <thead>\n",
       "    <tr style=\"text-align: right;\">\n",
       "      <th></th>\n",
       "      <th>Age</th>\n",
       "      <th>Workclass</th>\n",
       "      <th>Fnlwgt</th>\n",
       "      <th>Education</th>\n",
       "      <th>Education_num</th>\n",
       "      <th>Marital_status</th>\n",
       "      <th>Occupation</th>\n",
       "      <th>Relationship</th>\n",
       "      <th>Race</th>\n",
       "      <th>Sex</th>\n",
       "      <th>Capital_gain</th>\n",
       "      <th>Capital_loss</th>\n",
       "      <th>Hours_per_week</th>\n",
       "      <th>Native_country</th>\n",
       "      <th>Income</th>\n",
       "    </tr>\n",
       "  </thead>\n",
       "  <tbody>\n",
       "    <tr>\n",
       "      <th>0</th>\n",
       "      <td>50</td>\n",
       "      <td>Self-emp-not-inc</td>\n",
       "      <td>83311</td>\n",
       "      <td>Bachelors</td>\n",
       "      <td>13</td>\n",
       "      <td>Married-civ-spouse</td>\n",
       "      <td>Exec-managerial</td>\n",
       "      <td>Husband</td>\n",
       "      <td>White</td>\n",
       "      <td>Male</td>\n",
       "      <td>0</td>\n",
       "      <td>0</td>\n",
       "      <td>13</td>\n",
       "      <td>United-States</td>\n",
       "      <td>&lt;=50K</td>\n",
       "    </tr>\n",
       "    <tr>\n",
       "      <th>1</th>\n",
       "      <td>38</td>\n",
       "      <td>Private</td>\n",
       "      <td>215646</td>\n",
       "      <td>HS-grad</td>\n",
       "      <td>9</td>\n",
       "      <td>Divorced</td>\n",
       "      <td>Handlers-cleaners</td>\n",
       "      <td>Not-in-family</td>\n",
       "      <td>White</td>\n",
       "      <td>Male</td>\n",
       "      <td>0</td>\n",
       "      <td>0</td>\n",
       "      <td>40</td>\n",
       "      <td>United-States</td>\n",
       "      <td>&lt;=50K</td>\n",
       "    </tr>\n",
       "    <tr>\n",
       "      <th>2</th>\n",
       "      <td>53</td>\n",
       "      <td>Private</td>\n",
       "      <td>234721</td>\n",
       "      <td>11th</td>\n",
       "      <td>7</td>\n",
       "      <td>Married-civ-spouse</td>\n",
       "      <td>Handlers-cleaners</td>\n",
       "      <td>Husband</td>\n",
       "      <td>Black</td>\n",
       "      <td>Male</td>\n",
       "      <td>0</td>\n",
       "      <td>0</td>\n",
       "      <td>40</td>\n",
       "      <td>United-States</td>\n",
       "      <td>&lt;=50K</td>\n",
       "    </tr>\n",
       "    <tr>\n",
       "      <th>3</th>\n",
       "      <td>28</td>\n",
       "      <td>Private</td>\n",
       "      <td>338409</td>\n",
       "      <td>Bachelors</td>\n",
       "      <td>13</td>\n",
       "      <td>Married-civ-spouse</td>\n",
       "      <td>Prof-specialty</td>\n",
       "      <td>Wife</td>\n",
       "      <td>Black</td>\n",
       "      <td>Female</td>\n",
       "      <td>0</td>\n",
       "      <td>0</td>\n",
       "      <td>40</td>\n",
       "      <td>Cuba</td>\n",
       "      <td>&lt;=50K</td>\n",
       "    </tr>\n",
       "    <tr>\n",
       "      <th>4</th>\n",
       "      <td>37</td>\n",
       "      <td>Private</td>\n",
       "      <td>284582</td>\n",
       "      <td>Masters</td>\n",
       "      <td>14</td>\n",
       "      <td>Married-civ-spouse</td>\n",
       "      <td>Exec-managerial</td>\n",
       "      <td>Wife</td>\n",
       "      <td>White</td>\n",
       "      <td>Female</td>\n",
       "      <td>0</td>\n",
       "      <td>0</td>\n",
       "      <td>40</td>\n",
       "      <td>United-States</td>\n",
       "      <td>&lt;=50K</td>\n",
       "    </tr>\n",
       "    <tr>\n",
       "      <th>...</th>\n",
       "      <td>...</td>\n",
       "      <td>...</td>\n",
       "      <td>...</td>\n",
       "      <td>...</td>\n",
       "      <td>...</td>\n",
       "      <td>...</td>\n",
       "      <td>...</td>\n",
       "      <td>...</td>\n",
       "      <td>...</td>\n",
       "      <td>...</td>\n",
       "      <td>...</td>\n",
       "      <td>...</td>\n",
       "      <td>...</td>\n",
       "      <td>...</td>\n",
       "      <td>...</td>\n",
       "    </tr>\n",
       "    <tr>\n",
       "      <th>32555</th>\n",
       "      <td>27</td>\n",
       "      <td>Private</td>\n",
       "      <td>257302</td>\n",
       "      <td>Assoc-acdm</td>\n",
       "      <td>12</td>\n",
       "      <td>Married-civ-spouse</td>\n",
       "      <td>Tech-support</td>\n",
       "      <td>Wife</td>\n",
       "      <td>White</td>\n",
       "      <td>Female</td>\n",
       "      <td>0</td>\n",
       "      <td>0</td>\n",
       "      <td>38</td>\n",
       "      <td>United-States</td>\n",
       "      <td>&lt;=50K</td>\n",
       "    </tr>\n",
       "    <tr>\n",
       "      <th>32556</th>\n",
       "      <td>40</td>\n",
       "      <td>Private</td>\n",
       "      <td>154374</td>\n",
       "      <td>HS-grad</td>\n",
       "      <td>9</td>\n",
       "      <td>Married-civ-spouse</td>\n",
       "      <td>Machine-op-inspct</td>\n",
       "      <td>Husband</td>\n",
       "      <td>White</td>\n",
       "      <td>Male</td>\n",
       "      <td>0</td>\n",
       "      <td>0</td>\n",
       "      <td>40</td>\n",
       "      <td>United-States</td>\n",
       "      <td>&gt;50K</td>\n",
       "    </tr>\n",
       "    <tr>\n",
       "      <th>32557</th>\n",
       "      <td>58</td>\n",
       "      <td>Private</td>\n",
       "      <td>151910</td>\n",
       "      <td>HS-grad</td>\n",
       "      <td>9</td>\n",
       "      <td>Widowed</td>\n",
       "      <td>Adm-clerical</td>\n",
       "      <td>Unmarried</td>\n",
       "      <td>White</td>\n",
       "      <td>Female</td>\n",
       "      <td>0</td>\n",
       "      <td>0</td>\n",
       "      <td>40</td>\n",
       "      <td>United-States</td>\n",
       "      <td>&lt;=50K</td>\n",
       "    </tr>\n",
       "    <tr>\n",
       "      <th>32558</th>\n",
       "      <td>22</td>\n",
       "      <td>Private</td>\n",
       "      <td>201490</td>\n",
       "      <td>HS-grad</td>\n",
       "      <td>9</td>\n",
       "      <td>Never-married</td>\n",
       "      <td>Adm-clerical</td>\n",
       "      <td>Own-child</td>\n",
       "      <td>White</td>\n",
       "      <td>Male</td>\n",
       "      <td>0</td>\n",
       "      <td>0</td>\n",
       "      <td>20</td>\n",
       "      <td>United-States</td>\n",
       "      <td>&lt;=50K</td>\n",
       "    </tr>\n",
       "    <tr>\n",
       "      <th>32559</th>\n",
       "      <td>52</td>\n",
       "      <td>Self-emp-inc</td>\n",
       "      <td>287927</td>\n",
       "      <td>HS-grad</td>\n",
       "      <td>9</td>\n",
       "      <td>Married-civ-spouse</td>\n",
       "      <td>Exec-managerial</td>\n",
       "      <td>Wife</td>\n",
       "      <td>White</td>\n",
       "      <td>Female</td>\n",
       "      <td>15024</td>\n",
       "      <td>0</td>\n",
       "      <td>40</td>\n",
       "      <td>United-States</td>\n",
       "      <td>&gt;50K</td>\n",
       "    </tr>\n",
       "  </tbody>\n",
       "</table>\n",
       "<p>32536 rows × 15 columns</p>\n",
       "</div>"
      ],
      "text/plain": [
       "       Age          Workclass  Fnlwgt    Education  Education_num  \\\n",
       "0       50   Self-emp-not-inc   83311    Bachelors             13   \n",
       "1       38            Private  215646      HS-grad              9   \n",
       "2       53            Private  234721         11th              7   \n",
       "3       28            Private  338409    Bachelors             13   \n",
       "4       37            Private  284582      Masters             14   \n",
       "...    ...                ...     ...          ...            ...   \n",
       "32555   27            Private  257302   Assoc-acdm             12   \n",
       "32556   40            Private  154374      HS-grad              9   \n",
       "32557   58            Private  151910      HS-grad              9   \n",
       "32558   22            Private  201490      HS-grad              9   \n",
       "32559   52       Self-emp-inc  287927      HS-grad              9   \n",
       "\n",
       "            Marital_status          Occupation    Relationship    Race  \\\n",
       "0       Married-civ-spouse     Exec-managerial         Husband   White   \n",
       "1                 Divorced   Handlers-cleaners   Not-in-family   White   \n",
       "2       Married-civ-spouse   Handlers-cleaners         Husband   Black   \n",
       "3       Married-civ-spouse      Prof-specialty            Wife   Black   \n",
       "4       Married-civ-spouse     Exec-managerial            Wife   White   \n",
       "...                    ...                 ...             ...     ...   \n",
       "32555   Married-civ-spouse        Tech-support            Wife   White   \n",
       "32556   Married-civ-spouse   Machine-op-inspct         Husband   White   \n",
       "32557              Widowed        Adm-clerical       Unmarried   White   \n",
       "32558        Never-married        Adm-clerical       Own-child   White   \n",
       "32559   Married-civ-spouse     Exec-managerial            Wife   White   \n",
       "\n",
       "           Sex  Capital_gain  Capital_loss  Hours_per_week  Native_country  \\\n",
       "0         Male             0             0              13   United-States   \n",
       "1         Male             0             0              40   United-States   \n",
       "2         Male             0             0              40   United-States   \n",
       "3       Female             0             0              40            Cuba   \n",
       "4       Female             0             0              40   United-States   \n",
       "...        ...           ...           ...             ...             ...   \n",
       "32555   Female             0             0              38   United-States   \n",
       "32556     Male             0             0              40   United-States   \n",
       "32557   Female             0             0              40   United-States   \n",
       "32558     Male             0             0              20   United-States   \n",
       "32559   Female         15024             0              40   United-States   \n",
       "\n",
       "       Income  \n",
       "0       <=50K  \n",
       "1       <=50K  \n",
       "2       <=50K  \n",
       "3       <=50K  \n",
       "4       <=50K  \n",
       "...       ...  \n",
       "32555   <=50K  \n",
       "32556    >50K  \n",
       "32557   <=50K  \n",
       "32558   <=50K  \n",
       "32559    >50K  \n",
       "\n",
       "[32536 rows x 15 columns]"
      ]
     },
     "execution_count": 6,
     "metadata": {},
     "output_type": "execute_result"
    }
   ],
   "source": [
    "df.drop_duplicates()"
   ]
  },
  {
   "cell_type": "code",
   "execution_count": 7,
   "id": "a0c800c7",
   "metadata": {},
   "outputs": [
    {
     "data": {
      "text/plain": [
       "Age               0\n",
       "Workclass         0\n",
       "Fnlwgt            0\n",
       "Education         0\n",
       "Education_num     0\n",
       "Marital_status    0\n",
       "Occupation        0\n",
       "Relationship      0\n",
       "Race              0\n",
       "Sex               0\n",
       "Capital_gain      0\n",
       "Capital_loss      0\n",
       "Hours_per_week    0\n",
       "Native_country    0\n",
       "Income            0\n",
       "dtype: int64"
      ]
     },
     "execution_count": 7,
     "metadata": {},
     "output_type": "execute_result"
    }
   ],
   "source": [
    "#checking null values in dataset\n",
    "df.isnull().sum()"
   ]
  },
  {
   "cell_type": "code",
   "execution_count": 8,
   "id": "5ac04dd9",
   "metadata": {},
   "outputs": [
    {
     "data": {
      "text/plain": [
       "Workclass         object\n",
       "Education         object\n",
       "Marital_status    object\n",
       "Occupation        object\n",
       "Relationship      object\n",
       "Race              object\n",
       "Sex               object\n",
       "Native_country    object\n",
       "Income            object\n",
       "Age                int64\n",
       "Fnlwgt             int64\n",
       "Education_num      int64\n",
       "Capital_gain       int64\n",
       "Capital_loss       int64\n",
       "Hours_per_week     int64\n",
       "dtype: object"
      ]
     },
     "execution_count": 8,
     "metadata": {},
     "output_type": "execute_result"
    }
   ],
   "source": [
    "#checing datatypes of each column\n",
    "df.dtypes.sort_values(ascending=False)"
   ]
  },
  {
   "cell_type": "code",
   "execution_count": 9,
   "id": "63d517f9",
   "metadata": {},
   "outputs": [],
   "source": [
    "#Here Income is also considered as a Object Datatype, and hence we shall convert that into int as well."
   ]
  },
  {
   "cell_type": "code",
   "execution_count": 10,
   "id": "2418979b",
   "metadata": {},
   "outputs": [],
   "source": [
    "#let's explore the value counts of each feature"
   ]
  },
  {
   "cell_type": "code",
   "execution_count": 11,
   "id": "8db610e0",
   "metadata": {},
   "outputs": [
    {
     "name": "stdout",
     "output_type": "stream",
     "text": [
      "*******************************************************\n",
      "Value counts of Age \n",
      "\n",
      "36    898\n",
      "31    888\n",
      "34    886\n",
      "23    877\n",
      "35    876\n",
      "     ... \n",
      "83      6\n",
      "85      3\n",
      "88      3\n",
      "86      1\n",
      "87      1\n",
      "Name: Age, Length: 73, dtype: int64\n",
      "*******************************************************\n",
      "*******************************************************\n",
      "Value counts of Workclass \n",
      "\n",
      " Private             22696\n",
      " Self-emp-not-inc     2541\n",
      " Local-gov            2093\n",
      " ?                    1836\n",
      " State-gov            1297\n",
      " Self-emp-inc         1116\n",
      " Federal-gov           960\n",
      " Without-pay            14\n",
      " Never-worked            7\n",
      "Name: Workclass, dtype: int64\n",
      "*******************************************************\n",
      "*******************************************************\n",
      "Value counts of Fnlwgt \n",
      "\n",
      "203488    13\n",
      "123011    13\n",
      "164190    13\n",
      "121124    12\n",
      "148995    12\n",
      "          ..\n",
      "218551     1\n",
      "201204     1\n",
      "362999     1\n",
      "162297     1\n",
      "145522     1\n",
      "Name: Fnlwgt, Length: 21647, dtype: int64\n",
      "*******************************************************\n",
      "*******************************************************\n",
      "Value counts of Education \n",
      "\n",
      " HS-grad         10501\n",
      " Some-college     7291\n",
      " Bachelors        5354\n",
      " Masters          1723\n",
      " Assoc-voc        1382\n",
      " 11th             1175\n",
      " Assoc-acdm       1067\n",
      " 10th              933\n",
      " 7th-8th           646\n",
      " Prof-school       576\n",
      " 9th               514\n",
      " 12th              433\n",
      " Doctorate         413\n",
      " 5th-6th           333\n",
      " 1st-4th           168\n",
      " Preschool          51\n",
      "Name: Education, dtype: int64\n",
      "*******************************************************\n",
      "*******************************************************\n",
      "Value counts of Education_num \n",
      "\n",
      "9     10501\n",
      "10     7291\n",
      "13     5354\n",
      "14     1723\n",
      "11     1382\n",
      "7      1175\n",
      "12     1067\n",
      "6       933\n",
      "4       646\n",
      "15      576\n",
      "5       514\n",
      "8       433\n",
      "16      413\n",
      "3       333\n",
      "2       168\n",
      "1        51\n",
      "Name: Education_num, dtype: int64\n",
      "*******************************************************\n",
      "*******************************************************\n",
      "Value counts of Marital_status \n",
      "\n",
      " Married-civ-spouse       14976\n",
      " Never-married            10682\n",
      " Divorced                  4443\n",
      " Separated                 1025\n",
      " Widowed                    993\n",
      " Married-spouse-absent      418\n",
      " Married-AF-spouse           23\n",
      "Name: Marital_status, dtype: int64\n",
      "*******************************************************\n",
      "*******************************************************\n",
      "Value counts of Occupation \n",
      "\n",
      " Prof-specialty       4140\n",
      " Craft-repair         4099\n",
      " Exec-managerial      4066\n",
      " Adm-clerical         3769\n",
      " Sales                3650\n",
      " Other-service        3295\n",
      " Machine-op-inspct    2002\n",
      " ?                    1843\n",
      " Transport-moving     1597\n",
      " Handlers-cleaners    1370\n",
      " Farming-fishing       994\n",
      " Tech-support          928\n",
      " Protective-serv       649\n",
      " Priv-house-serv       149\n",
      " Armed-Forces            9\n",
      "Name: Occupation, dtype: int64\n",
      "*******************************************************\n",
      "*******************************************************\n",
      "Value counts of Relationship \n",
      "\n",
      " Husband           13193\n",
      " Not-in-family      8304\n",
      " Own-child          5068\n",
      " Unmarried          3446\n",
      " Wife               1568\n",
      " Other-relative      981\n",
      "Name: Relationship, dtype: int64\n",
      "*******************************************************\n",
      "*******************************************************\n",
      "Value counts of Race \n",
      "\n",
      " White                 27815\n",
      " Black                  3124\n",
      " Asian-Pac-Islander     1039\n",
      " Amer-Indian-Eskimo      311\n",
      " Other                   271\n",
      "Name: Race, dtype: int64\n",
      "*******************************************************\n",
      "*******************************************************\n",
      "Value counts of Sex \n",
      "\n",
      " Male      21789\n",
      " Female    10771\n",
      "Name: Sex, dtype: int64\n",
      "*******************************************************\n",
      "*******************************************************\n",
      "Value counts of Capital_gain \n",
      "\n",
      "0        29849\n",
      "15024      347\n",
      "7688       284\n",
      "7298       246\n",
      "99999      159\n",
      "         ...  \n",
      "1639         1\n",
      "5060         1\n",
      "6097         1\n",
      "1455         1\n",
      "7978         1\n",
      "Name: Capital_gain, Length: 119, dtype: int64\n",
      "*******************************************************\n",
      "*******************************************************\n",
      "Value counts of Capital_loss \n",
      "\n",
      "0       31041\n",
      "1902      202\n",
      "1977      168\n",
      "1887      159\n",
      "1485       51\n",
      "        ...  \n",
      "2467        1\n",
      "1539        1\n",
      "155         1\n",
      "2282        1\n",
      "1411        1\n",
      "Name: Capital_loss, Length: 92, dtype: int64\n",
      "*******************************************************\n",
      "*******************************************************\n",
      "Value counts of Hours_per_week \n",
      "\n",
      "40    15216\n",
      "50     2819\n",
      "45     1824\n",
      "60     1475\n",
      "35     1297\n",
      "      ...  \n",
      "92        1\n",
      "74        1\n",
      "94        1\n",
      "82        1\n",
      "87        1\n",
      "Name: Hours_per_week, Length: 94, dtype: int64\n",
      "*******************************************************\n",
      "*******************************************************\n",
      "Value counts of Native_country \n",
      "\n",
      " United-States                 29169\n",
      " Mexico                          643\n",
      " ?                               583\n",
      " Philippines                     198\n",
      " Germany                         137\n",
      " Canada                          121\n",
      " Puerto-Rico                     114\n",
      " El-Salvador                     106\n",
      " India                           100\n",
      " Cuba                             95\n",
      " England                          90\n",
      " Jamaica                          81\n",
      " South                            80\n",
      " China                            75\n",
      " Italy                            73\n",
      " Dominican-Republic               70\n",
      " Vietnam                          67\n",
      " Guatemala                        64\n",
      " Japan                            62\n",
      " Poland                           60\n",
      " Columbia                         59\n",
      " Taiwan                           51\n",
      " Haiti                            44\n",
      " Iran                             43\n",
      " Portugal                         37\n",
      " Nicaragua                        34\n",
      " Peru                             31\n",
      " France                           29\n",
      " Greece                           29\n",
      " Ecuador                          28\n",
      " Ireland                          24\n",
      " Hong                             20\n",
      " Trinadad&Tobago                  19\n",
      " Cambodia                         19\n",
      " Thailand                         18\n",
      " Laos                             18\n",
      " Yugoslavia                       16\n",
      " Outlying-US(Guam-USVI-etc)       14\n",
      " Hungary                          13\n",
      " Honduras                         13\n",
      " Scotland                         12\n",
      " Holand-Netherlands                1\n",
      "Name: Native_country, dtype: int64\n",
      "*******************************************************\n",
      "*******************************************************\n",
      "Value counts of Income \n",
      "\n",
      " <=50K    24719\n",
      " >50K      7841\n",
      "Name: Income, dtype: int64\n",
      "*******************************************************\n"
     ]
    }
   ],
   "source": [
    "for i in df.columns:\n",
    "    print(\"*******************************************************\")\n",
    "    print(\"Value counts of\", i, \"\\n\" )\n",
    "    print(df[i].value_counts())\n",
    "    print('*******************************************************')"
   ]
  },
  {
   "cell_type": "markdown",
   "id": "289f9c04",
   "metadata": {},
   "source": [
    "# OBSERVATIONS"
   ]
  },
  {
   "cell_type": "raw",
   "id": "c99004a2",
   "metadata": {},
   "source": [
    "1) Age :- (Int datatype)\n",
    "This feature gives the Age of the person\n",
    "73 distinct values \n",
    "\n",
    "2) WorkClass :- (Object DataType)\n",
    "This feature gives the working glass of the person\n",
    "\n",
    "Private, Self-employed, Local-gov, State-gov, Self-employed,\n",
    "Federal-gov, Without-pay, Never-worked\n",
    "\n",
    "Private being highest at 22696, \n",
    "the 3rd highest is a ? which means it is a Null Value \n",
    "which is equal to 1836. \n",
    "****NULL VALUES = 1836****\n",
    "\n",
    "3) Fnlwgt :- (Int DataType)\n",
    "Description of fnlwgt (final weight) \n",
    "The weights on the Current Population Survey (CPS) files are controlled \n",
    "to independent estimates of the civilian non-institutional population of the US.\n",
    "\n",
    "21647 distinct values\n",
    "\n",
    "\n",
    "4) Education :- (Object DataType)\n",
    "\n",
    "HS-grad, Some-college, Bachelors,Masters,Assoc-voc,\n",
    "11th, Assoc-acdm, 10th,7th-8th,Prof-school,9th,12th,\n",
    "Doctorate,5th-6th,1st-4th,Preschool\n",
    "\n",
    "HS-grad being the highest and Preschool being the lowest\n",
    "\n",
    "5) Education_num :- (Int DataType)\n",
    "\n",
    "This is exactly the encoded conversion of the Education feature\n",
    "\n",
    "6) Marital_status (Object DataType)\n",
    "\n",
    "Married-civ-spouse, Never-married, Divorced, Separated, \n",
    "Widowed, Married-spuse-absent, Married-AF-spouse\n",
    "\n",
    "Married-civ-spouse is the highest\n",
    "Married-AF-spouse is the lowest\n",
    "\n",
    "7) Occupation (Object DataType)\n",
    "\n",
    "Prof-specialty, Craft-repair, Exec-managerial, Adm-clerical,\n",
    "Sales, Other-service, Machine-op-inspct, Transport-moving, \n",
    "Handlers-cleaners, Farming-fishing, Tech-support, Protective-serv,\n",
    "Priv-house-serv, Armed-Forces\n",
    "\n",
    "Prof-speciality = 4140 entries\n",
    "****NUll VALUES = ? = 1843****\n",
    "\n",
    "8) Relationship (Object DataType)\n",
    "\n",
    "Husband, Not-in-family, Own-child, Unmarried, Wife, Other-relative\n",
    "\n",
    "Highest being Husband (13193)\n",
    "\n",
    "9) Race (Object DataType)\n",
    "\n",
    "White, Black, Asisan-Pac-Islander, Amer-Indian-Eskimo, Other\n",
    "\n",
    "White = 27815 (Highest)\n",
    "\n",
    "10) Sex (Object DataType)\n",
    "\n",
    "Male = 21789\n",
    "Female = 10771\n",
    "\n",
    "11) Capital_gain (Int DataType)\n",
    "\n",
    "119 different values\n",
    "\n",
    "0 = 29849 (Most entries)\n",
    "\n",
    "12) Capital_loss (Int DataType)\n",
    "\n",
    "92 different values\n",
    "\n",
    "0 = 31041 (Most Entries)\n",
    "\n",
    "13) Hours_per_week (Int DataType)\n",
    "\n",
    "94 different values\n",
    "\n",
    "40 = 15216 (Most Entries)\n",
    "\n",
    "14) Native_country (Object DataType)\n",
    "\n",
    "United-States, Mexico, Philippines, Germany, Canada, Puerto-Rico,\n",
    "El-Salvador, India, Cuba, England, Jamaica, South, China,\n",
    "Italy, Dominican-Republic, Vietnam, Guatemala, Japan, Poland,\n",
    "Columbia, Taiwan, Haiti, Iran, Portugal, Nicaragua, Peru,\n",
    "Greece, France, Ecuador, Ireland, Hong, Trinadad&Tobago, \n",
    "Cambodia, Laos, Thailand, Yugoslavia, Outlying-US(Guam-USVI-etc),\n",
    "Hungary, Honduras, Scotland, Holand-Netherlands\n",
    "\n",
    "United-States = 29179 (most entries)\n",
    "\n",
    "****NULL VALUES = ? = 583 (entries)****\n",
    "\n",
    "\n",
    "15) Income (Object DataType)\n",
    "\n",
    "<=50K = 24719\n",
    ">50K = 7841\n",
    "\n",
    "There is an issue of class imbalance here."
   ]
  },
  {
   "cell_type": "code",
   "execution_count": 12,
   "id": "c8050d2c",
   "metadata": {},
   "outputs": [],
   "source": [
    "#There are 3 features where the Null values have been entered as a ?; \n",
    "#Hence, we will treat those as NaN"
   ]
  },
  {
   "cell_type": "code",
   "execution_count": 13,
   "id": "4f2d83ac",
   "metadata": {},
   "outputs": [],
   "source": [
    "#Lets first replace '?' with np.NaN"
   ]
  },
  {
   "cell_type": "code",
   "execution_count": 14,
   "id": "d62be98a",
   "metadata": {},
   "outputs": [
    {
     "data": {
      "text/plain": [
       " Prof-specialty       4140\n",
       " Craft-repair         4099\n",
       " Exec-managerial      4066\n",
       " Adm-clerical         3769\n",
       " Sales                3650\n",
       " Other-service        3295\n",
       " Machine-op-inspct    2002\n",
       " Transport-moving     1597\n",
       " Handlers-cleaners    1370\n",
       " Farming-fishing       994\n",
       " Tech-support          928\n",
       " Protective-serv       649\n",
       " Priv-house-serv       149\n",
       " Armed-Forces            9\n",
       "Name: Occupation, dtype: int64"
      ]
     },
     "execution_count": 14,
     "metadata": {},
     "output_type": "execute_result"
    }
   ],
   "source": [
    "df = df.replace(' ?', np.NaN)\n",
    "df['Occupation'].value_counts()"
   ]
  },
  {
   "cell_type": "code",
   "execution_count": 15,
   "id": "5c26c10f",
   "metadata": {},
   "outputs": [],
   "source": [
    "#as per above all the '?' has been replaced by np.NaN"
   ]
  },
  {
   "cell_type": "code",
   "execution_count": 16,
   "id": "5afa7259",
   "metadata": {},
   "outputs": [
    {
     "data": {
      "text/plain": [
       "Age                  0\n",
       "Workclass         1836\n",
       "Fnlwgt               0\n",
       "Education            0\n",
       "Education_num        0\n",
       "Marital_status       0\n",
       "Occupation        1843\n",
       "Relationship         0\n",
       "Race                 0\n",
       "Sex                  0\n",
       "Capital_gain         0\n",
       "Capital_loss         0\n",
       "Hours_per_week       0\n",
       "Native_country     583\n",
       "Income               0\n",
       "dtype: int64"
      ]
     },
     "execution_count": 16,
     "metadata": {},
     "output_type": "execute_result"
    }
   ],
   "source": [
    "df.isnull().sum()"
   ]
  },
  {
   "cell_type": "code",
   "execution_count": 17,
   "id": "de7fed30",
   "metadata": {},
   "outputs": [],
   "source": [
    "#now three features, i.e. Workclass , Occupation and Native_country have null values in them. \n",
    "#We will treat the null values after we convert all of the datatypes to int/float"
   ]
  },
  {
   "cell_type": "code",
   "execution_count": 18,
   "id": "1d12aefa",
   "metadata": {},
   "outputs": [
    {
     "data": {
      "text/plain": [
       " Private             22696\n",
       " Self-emp-not-inc     2541\n",
       " Local-gov            2093\n",
       " State-gov            1297\n",
       " Self-emp-inc         1116\n",
       " Federal-gov           960\n",
       " Without-pay            14\n",
       " Never-worked            7\n",
       "Name: Workclass, dtype: int64"
      ]
     },
     "execution_count": 18,
     "metadata": {},
     "output_type": "execute_result"
    }
   ],
   "source": [
    "df['Workclass'].value_counts()"
   ]
  },
  {
   "cell_type": "code",
   "execution_count": 19,
   "id": "84821a88",
   "metadata": {},
   "outputs": [
    {
     "data": {
      "text/plain": [
       " United-States                 29169\n",
       " Mexico                          643\n",
       " Philippines                     198\n",
       " Germany                         137\n",
       " Canada                          121\n",
       " Puerto-Rico                     114\n",
       " El-Salvador                     106\n",
       " India                           100\n",
       " Cuba                             95\n",
       " England                          90\n",
       " Jamaica                          81\n",
       " South                            80\n",
       " China                            75\n",
       " Italy                            73\n",
       " Dominican-Republic               70\n",
       " Vietnam                          67\n",
       " Guatemala                        64\n",
       " Japan                            62\n",
       " Poland                           60\n",
       " Columbia                         59\n",
       " Taiwan                           51\n",
       " Haiti                            44\n",
       " Iran                             43\n",
       " Portugal                         37\n",
       " Nicaragua                        34\n",
       " Peru                             31\n",
       " France                           29\n",
       " Greece                           29\n",
       " Ecuador                          28\n",
       " Ireland                          24\n",
       " Hong                             20\n",
       " Trinadad&Tobago                  19\n",
       " Cambodia                         19\n",
       " Thailand                         18\n",
       " Laos                             18\n",
       " Yugoslavia                       16\n",
       " Outlying-US(Guam-USVI-etc)       14\n",
       " Hungary                          13\n",
       " Honduras                         13\n",
       " Scotland                         12\n",
       " Holand-Netherlands                1\n",
       "Name: Native_country, dtype: int64"
      ]
     },
     "execution_count": 19,
     "metadata": {},
     "output_type": "execute_result"
    }
   ],
   "source": [
    "df['Native_country'].value_counts()"
   ]
  },
  {
   "cell_type": "markdown",
   "id": "777926d4",
   "metadata": {},
   "source": [
    "# ENCODING"
   ]
  },
  {
   "cell_type": "raw",
   "id": "5abd70b9",
   "metadata": {},
   "source": [
    "Workclass         object\n",
    "Education         object\n",
    "Marital_status    object\n",
    "Occupation        object\n",
    "Relationship      object\n",
    "Race              object\n",
    "Sex               object\n",
    "Native_country    object\n",
    "Income            object"
   ]
  },
  {
   "cell_type": "code",
   "execution_count": 20,
   "id": "132aa293",
   "metadata": {},
   "outputs": [],
   "source": [
    "from sklearn.preprocessing import LabelEncoder\n",
    "for col_name in df.columns:\n",
    "    series = df[col_name]\n",
    "    label_encoder = LabelEncoder()\n",
    "    df[col_name] = pd.Series(\n",
    "        label_encoder.fit_transform(series[series.notnull()]),\n",
    "        index=series[series.notnull()].index\n",
    "    )"
   ]
  },
  {
   "cell_type": "code",
   "execution_count": 21,
   "id": "83b23212",
   "metadata": {},
   "outputs": [
    {
     "data": {
      "text/plain": [
       "Age                  0\n",
       "Workclass         1836\n",
       "Fnlwgt               0\n",
       "Education            0\n",
       "Education_num        0\n",
       "Marital_status       0\n",
       "Occupation        1843\n",
       "Relationship         0\n",
       "Race                 0\n",
       "Sex                  0\n",
       "Capital_gain         0\n",
       "Capital_loss         0\n",
       "Hours_per_week       0\n",
       "Native_country     583\n",
       "Income               0\n",
       "dtype: int64"
      ]
     },
     "execution_count": 21,
     "metadata": {},
     "output_type": "execute_result"
    }
   ],
   "source": [
    "df.isnull().sum()"
   ]
  },
  {
   "cell_type": "code",
   "execution_count": 22,
   "id": "3351c961",
   "metadata": {},
   "outputs": [
    {
     "name": "stdout",
     "output_type": "stream",
     "text": [
      "*******************************************************\n",
      "Value counts of Age \n",
      "\n",
      "19    898\n",
      "14    888\n",
      "17    886\n",
      "6     877\n",
      "18    876\n",
      "     ... \n",
      "66      6\n",
      "68      3\n",
      "71      3\n",
      "69      1\n",
      "70      1\n",
      "Name: Age, Length: 73, dtype: int64\n",
      "*******************************************************\n",
      "*******************************************************\n",
      "Value counts of Workclass \n",
      "\n",
      "3.0    22696\n",
      "5.0     2541\n",
      "1.0     2093\n",
      "NaN     1836\n",
      "6.0     1297\n",
      "4.0     1116\n",
      "0.0      960\n",
      "7.0       14\n",
      "2.0        7\n",
      "Name: Workclass, dtype: int64\n",
      "*******************************************************\n",
      "*******************************************************\n",
      "Value counts of Fnlwgt \n",
      "\n",
      "13073    13\n",
      "5813     13\n",
      "8878     13\n",
      "4983     12\n",
      "6094     12\n",
      "         ..\n",
      "4516      1\n",
      "6565      1\n",
      "2471      1\n",
      "20908     1\n",
      "2047      1\n",
      "Name: Fnlwgt, Length: 21647, dtype: int64\n",
      "*******************************************************\n",
      "*******************************************************\n",
      "Value counts of Education \n",
      "\n",
      "11    10501\n",
      "15     7291\n",
      "9      5354\n",
      "12     1723\n",
      "8      1382\n",
      "1      1175\n",
      "7      1067\n",
      "0       933\n",
      "5       646\n",
      "14      576\n",
      "6       514\n",
      "2       433\n",
      "10      413\n",
      "4       333\n",
      "3       168\n",
      "13       51\n",
      "Name: Education, dtype: int64\n",
      "*******************************************************\n",
      "*******************************************************\n",
      "Value counts of Education_num \n",
      "\n",
      "8     10501\n",
      "9      7291\n",
      "12     5354\n",
      "13     1723\n",
      "10     1382\n",
      "6      1175\n",
      "11     1067\n",
      "5       933\n",
      "3       646\n",
      "14      576\n",
      "4       514\n",
      "7       433\n",
      "15      413\n",
      "2       333\n",
      "1       168\n",
      "0        51\n",
      "Name: Education_num, dtype: int64\n",
      "*******************************************************\n",
      "*******************************************************\n",
      "Value counts of Marital_status \n",
      "\n",
      "2    14976\n",
      "4    10682\n",
      "0     4443\n",
      "5     1025\n",
      "6      993\n",
      "3      418\n",
      "1       23\n",
      "Name: Marital_status, dtype: int64\n",
      "*******************************************************\n",
      "*******************************************************\n",
      "Value counts of Occupation \n",
      "\n",
      "9.0     4140\n",
      "2.0     4099\n",
      "3.0     4066\n",
      "0.0     3769\n",
      "11.0    3650\n",
      "7.0     3295\n",
      "6.0     2002\n",
      "NaN     1843\n",
      "13.0    1597\n",
      "5.0     1370\n",
      "4.0      994\n",
      "12.0     928\n",
      "10.0     649\n",
      "8.0      149\n",
      "1.0        9\n",
      "Name: Occupation, dtype: int64\n",
      "*******************************************************\n",
      "*******************************************************\n",
      "Value counts of Relationship \n",
      "\n",
      "0    13193\n",
      "1     8304\n",
      "3     5068\n",
      "4     3446\n",
      "5     1568\n",
      "2      981\n",
      "Name: Relationship, dtype: int64\n",
      "*******************************************************\n",
      "*******************************************************\n",
      "Value counts of Race \n",
      "\n",
      "4    27815\n",
      "2     3124\n",
      "1     1039\n",
      "0      311\n",
      "3      271\n",
      "Name: Race, dtype: int64\n",
      "*******************************************************\n",
      "*******************************************************\n",
      "Value counts of Sex \n",
      "\n",
      "1    21789\n",
      "0    10771\n",
      "Name: Sex, dtype: int64\n",
      "*******************************************************\n",
      "*******************************************************\n",
      "Value counts of Capital_gain \n",
      "\n",
      "0      29849\n",
      "108      347\n",
      "94       284\n",
      "91       246\n",
      "118      159\n",
      "       ...  \n",
      "16         1\n",
      "83         1\n",
      "96         1\n",
      "75         1\n",
      "8          1\n",
      "Name: Capital_gain, Length: 119, dtype: int64\n",
      "*******************************************************\n",
      "*******************************************************\n",
      "Value counts of Capital_loss \n",
      "\n",
      "0     31041\n",
      "47      202\n",
      "50      168\n",
      "46      159\n",
      "44       51\n",
      "      ...  \n",
      "81        1\n",
      "1         1\n",
      "80        1\n",
      "48        1\n",
      "79        1\n",
      "Name: Capital_loss, Length: 92, dtype: int64\n",
      "*******************************************************\n",
      "*******************************************************\n",
      "Value counts of Hours_per_week \n",
      "\n",
      "39    15216\n",
      "49     2819\n",
      "44     1824\n",
      "59     1475\n",
      "34     1297\n",
      "      ...  \n",
      "88        1\n",
      "71        1\n",
      "82        1\n",
      "78        1\n",
      "87        1\n",
      "Name: Hours_per_week, Length: 94, dtype: int64\n",
      "*******************************************************\n",
      "*******************************************************\n",
      "Value counts of Native_country \n",
      "\n",
      "38.0    29169\n",
      "25.0      643\n",
      "NaN       583\n",
      "29.0      198\n",
      "10.0      137\n",
      "1.0       121\n",
      "32.0      114\n",
      "7.0       106\n",
      "18.0      100\n",
      "4.0        95\n",
      "8.0        90\n",
      "22.0       81\n",
      "34.0       80\n",
      "2.0        75\n",
      "21.0       73\n",
      "5.0        70\n",
      "39.0       67\n",
      "12.0       64\n",
      "23.0       62\n",
      "30.0       60\n",
      "3.0        59\n",
      "35.0       51\n",
      "13.0       44\n",
      "19.0       43\n",
      "31.0       37\n",
      "26.0       34\n",
      "28.0       31\n",
      "11.0       29\n",
      "9.0        29\n",
      "6.0        28\n",
      "20.0       24\n",
      "16.0       20\n",
      "37.0       19\n",
      "0.0        19\n",
      "36.0       18\n",
      "24.0       18\n",
      "40.0       16\n",
      "27.0       14\n",
      "17.0       13\n",
      "15.0       13\n",
      "33.0       12\n",
      "14.0        1\n",
      "Name: Native_country, dtype: int64\n",
      "*******************************************************\n",
      "*******************************************************\n",
      "Value counts of Income \n",
      "\n",
      "0    24719\n",
      "1     7841\n",
      "Name: Income, dtype: int64\n",
      "*******************************************************\n"
     ]
    }
   ],
   "source": [
    "for i in df.columns:\n",
    "    print(\"*******************************************************\")\n",
    "    print(\"Value counts of\", i, \"\\n\" )\n",
    "    print(df[i].value_counts(dropna=False))\n",
    "    print('*******************************************************')"
   ]
  },
  {
   "cell_type": "raw",
   "id": "f1e04259",
   "metadata": {},
   "source": [
    "Value counts of Occupation \n",
    "Prof-specialty (9)       4140\n",
    "Craft-repair (2)         4099\n",
    "Exec-managerial (3)      4066\n",
    "Adm-clerical (0)         3769\n",
    "Sales (11)               3650\n",
    "Other-service (7)        3295\n",
    "Machine-op-inspct (6)    2002\n",
    "Transport-moving (13)    1597\n",
    "Handlers-cleaners (5)    1370\n",
    "Farming-fishing (4)       994\n",
    "Tech-support   (12)       928\n",
    "Protective-serv  (10)     649\n",
    "Priv-house-serv (8)       149\n",
    "Armed-Forces (1)            9\n",
    "NaN                      1843 \n",
    "\n",
    "\n",
    "Value counts of Workclass \n",
    "Private (3)            22696\n",
    "Self-emp-not-inc (5)    2541\n",
    "Local-gov (1)           2093\n",
    "State-gov   (6)         1297\n",
    "Self-emp-inc (4)        1116\n",
    "Federal-gov (0)          960\n",
    "Without-pay (1)           14\n",
    "Never-worked (2)           7\n",
    "NaN                     1836\n",
    "\n",
    "Value counts of Native_country\n",
    "United-States (38)                29169\n",
    "Mexico (25)                         643\n",
    "Philippines (29)                    198\n",
    "Germany (10)                        137\n",
    "Canada (1)                          121\n",
    "Puerto-Rico (32)                    114\n",
    "El-Salvador (7)                     106\n",
    "India (18)                          100\n",
    "Cuba (4)                             95\n",
    "England (8)                          90\n",
    "Jamaica (22)                         81\n",
    "South (34)                           80\n",
    "China (2)                            75\n",
    "Italy (21)                           73\n",
    "Dominican-Republic (5)               70\n",
    "Vietnam (39)                         67\n",
    "Guatemala (12)                       64\n",
    "Japan (23)                           62\n",
    "Poland (30)                          60\n",
    "Columbia (3)                         59\n",
    "Taiwan (35)                          51\n",
    "Haiti (13)                           44\n",
    "Iran (19)                            43\n",
    "Portugal (31)                        37\n",
    "Nicaragua (26)                       34\n",
    "Peru (28)                            31\n",
    "Greece (11)                          29\n",
    "France (9)                           29\n",
    "Ecuador (6)                          28\n",
    "Ireland (20)                         24\n",
    "Hong (16)                            20\n",
    "Cambodia (37)                        19\n",
    "Trinadad&Tobago (0)                  19\n",
    "Thailand (36)                        18\n",
    "Laos (24)                            18\n",
    "Yugoslavia (40)                      16\n",
    "Outlying-US(Guam-USVI-etc) (27)      14\n",
    "Honduras (17)                        13\n",
    "Hungary (15)                         13\n",
    "Scotland (33)                        12\n",
    "Holand-Netherlands (14)               1\n",
    "NaN                                 583\n",
    "\n",
    "Value counts of Education\n",
    "HS-grad (11)        10501\n",
    "Some-college (15)    7291\n",
    "Bachelors (9)        5354\n",
    "Masters (12)         1723\n",
    "Assoc-voc (8)       1382\n",
    "11th (1)            1175\n",
    "Assoc-acdm (7)      1067\n",
    "10th (0)             933\n",
    "7th-8th (5)          646\n",
    "Prof-school (14)     576\n",
    "9th (6)              514\n",
    "12th (2)             433\n",
    "Doctorate (10)       413\n",
    "5th-6th (4)          333\n",
    "1st-4th (3)          168\n",
    "Preschool (13)        51\n",
    "\n",
    "Value counts of Marital_status \n",
    "Married-civ-spouse (2)      14976\n",
    "Never-married (4)           10682\n",
    "Divorced (0)                 4443\n",
    "Separated (5)                1025\n",
    "Widowed (6)                   993\n",
    "Married-spouse-absent (3)     418\n",
    "Married-AF-spouse (1)          23\n",
    "\n",
    "Value counts of Relationship \n",
    "Husband (0)          13193\n",
    "Not-in-family (1)     8304\n",
    "Own-child (3)         5068\n",
    "Unmarried (4)         3446\n",
    "Wife (5)              1568\n",
    "Other-relative (2)     981\n",
    "\n",
    "Value counts of Race \n",
    "White (4)                27815\n",
    "Black (2)                 3124\n",
    "Asian-Pac-Islander (1)    1039\n",
    "Amer-Indian-Eskimo (0)     311\n",
    "Other (3)                  271\n",
    "\n",
    "Value counts of Sex \n",
    "Male (1)     21789\n",
    "Female (0)   10771\n",
    "\n",
    "Value counts of Income \n",
    "<=50K (0)    24719\n",
    ">50K (1)      7841\n",
    "#problem of class imblaance here. "
   ]
  },
  {
   "cell_type": "code",
   "execution_count": 23,
   "id": "16598cf5",
   "metadata": {},
   "outputs": [],
   "source": [
    "#Let us treat NaN values first"
   ]
  },
  {
   "cell_type": "code",
   "execution_count": 24,
   "id": "7080622b",
   "metadata": {},
   "outputs": [
    {
     "data": {
      "text/plain": [
       "Age                  0\n",
       "Workclass         1836\n",
       "Fnlwgt               0\n",
       "Education            0\n",
       "Education_num        0\n",
       "Marital_status       0\n",
       "Occupation        1843\n",
       "Relationship         0\n",
       "Race                 0\n",
       "Sex                  0\n",
       "Capital_gain         0\n",
       "Capital_loss         0\n",
       "Hours_per_week       0\n",
       "Native_country     583\n",
       "Income               0\n",
       "dtype: int64"
      ]
     },
     "execution_count": 24,
     "metadata": {},
     "output_type": "execute_result"
    }
   ],
   "source": [
    "df.isnull().sum()"
   ]
  },
  {
   "cell_type": "code",
   "execution_count": 25,
   "id": "b29a95c3",
   "metadata": {},
   "outputs": [],
   "source": [
    "df = df.astype(np.uint8,errors='ignore')"
   ]
  },
  {
   "cell_type": "markdown",
   "id": "836c7591",
   "metadata": {},
   "source": [
    "# IMPUTATION"
   ]
  },
  {
   "cell_type": "code",
   "execution_count": 26,
   "id": "99b94cc4",
   "metadata": {},
   "outputs": [],
   "source": [
    "#Simple Imputer\n",
    "from sklearn.impute import SimpleImputer\n",
    "imputer = SimpleImputer(missing_values= np.NaN, strategy='most_frequent')\n",
    "df.Workclass = imputer.fit_transform(df['Workclass'].values.reshape(-1,1))[:,0] "
   ]
  },
  {
   "cell_type": "code",
   "execution_count": 27,
   "id": "6c400b0c",
   "metadata": {},
   "outputs": [],
   "source": [
    "df.Occupation = imputer.fit_transform(df['Occupation'].values.reshape(-1,1))[:,0]"
   ]
  },
  {
   "cell_type": "code",
   "execution_count": 28,
   "id": "108f0e43",
   "metadata": {},
   "outputs": [],
   "source": [
    "df.Native_country = imputer.fit_transform(df['Native_country'].values.reshape(-1,1))[:,0]"
   ]
  },
  {
   "cell_type": "code",
   "execution_count": 29,
   "id": "7f9e2872",
   "metadata": {},
   "outputs": [
    {
     "data": {
      "text/plain": [
       "Age               0\n",
       "Workclass         0\n",
       "Fnlwgt            0\n",
       "Education         0\n",
       "Education_num     0\n",
       "Marital_status    0\n",
       "Occupation        0\n",
       "Relationship      0\n",
       "Race              0\n",
       "Sex               0\n",
       "Capital_gain      0\n",
       "Capital_loss      0\n",
       "Hours_per_week    0\n",
       "Native_country    0\n",
       "Income            0\n",
       "dtype: int64"
      ]
     },
     "execution_count": 29,
     "metadata": {},
     "output_type": "execute_result"
    }
   ],
   "source": [
    "df.isnull().sum()"
   ]
  },
  {
   "cell_type": "code",
   "execution_count": 30,
   "id": "ba47d9bc",
   "metadata": {},
   "outputs": [
    {
     "data": {
      "text/html": [
       "<div>\n",
       "<style scoped>\n",
       "    .dataframe tbody tr th:only-of-type {\n",
       "        vertical-align: middle;\n",
       "    }\n",
       "\n",
       "    .dataframe tbody tr th {\n",
       "        vertical-align: top;\n",
       "    }\n",
       "\n",
       "    .dataframe thead th {\n",
       "        text-align: right;\n",
       "    }\n",
       "</style>\n",
       "<table border=\"1\" class=\"dataframe\">\n",
       "  <thead>\n",
       "    <tr style=\"text-align: right;\">\n",
       "      <th></th>\n",
       "      <th>Age</th>\n",
       "      <th>Workclass</th>\n",
       "      <th>Fnlwgt</th>\n",
       "      <th>Education</th>\n",
       "      <th>Education_num</th>\n",
       "      <th>Marital_status</th>\n",
       "      <th>Occupation</th>\n",
       "      <th>Relationship</th>\n",
       "      <th>Race</th>\n",
       "      <th>Sex</th>\n",
       "      <th>Capital_gain</th>\n",
       "      <th>Capital_loss</th>\n",
       "      <th>Hours_per_week</th>\n",
       "      <th>Native_country</th>\n",
       "      <th>Income</th>\n",
       "    </tr>\n",
       "  </thead>\n",
       "  <tbody>\n",
       "    <tr>\n",
       "      <th>count</th>\n",
       "      <td>32560.000000</td>\n",
       "      <td>32560.000000</td>\n",
       "      <td>32560.000000</td>\n",
       "      <td>32560.000000</td>\n",
       "      <td>32560.000000</td>\n",
       "      <td>32560.000000</td>\n",
       "      <td>32560.000000</td>\n",
       "      <td>32560.000000</td>\n",
       "      <td>32560.000000</td>\n",
       "      <td>32560.000000</td>\n",
       "      <td>32560.000000</td>\n",
       "      <td>32560.000000</td>\n",
       "      <td>32560.000000</td>\n",
       "      <td>32560.000000</td>\n",
       "      <td>32560.000000</td>\n",
       "    </tr>\n",
       "    <tr>\n",
       "      <th>mean</th>\n",
       "      <td>21.580313</td>\n",
       "      <td>3.094349</td>\n",
       "      <td>127.627211</td>\n",
       "      <td>10.298249</td>\n",
       "      <td>9.080590</td>\n",
       "      <td>2.611794</td>\n",
       "      <td>6.138943</td>\n",
       "      <td>1.446376</td>\n",
       "      <td>3.665848</td>\n",
       "      <td>0.669195</td>\n",
       "      <td>6.500645</td>\n",
       "      <td>2.053348</td>\n",
       "      <td>39.377948</td>\n",
       "      <td>36.417107</td>\n",
       "      <td>0.240817</td>\n",
       "    </tr>\n",
       "    <tr>\n",
       "      <th>std</th>\n",
       "      <td>13.635711</td>\n",
       "      <td>1.107094</td>\n",
       "      <td>74.032147</td>\n",
       "      <td>3.870317</td>\n",
       "      <td>2.572709</td>\n",
       "      <td>1.506225</td>\n",
       "      <td>3.972623</td>\n",
       "      <td>1.606794</td>\n",
       "      <td>0.848817</td>\n",
       "      <td>0.470510</td>\n",
       "      <td>23.300419</td>\n",
       "      <td>10.056712</td>\n",
       "      <td>12.144192</td>\n",
       "      <td>6.056133</td>\n",
       "      <td>0.427586</td>\n",
       "    </tr>\n",
       "    <tr>\n",
       "      <th>min</th>\n",
       "      <td>0.000000</td>\n",
       "      <td>0.000000</td>\n",
       "      <td>0.000000</td>\n",
       "      <td>0.000000</td>\n",
       "      <td>0.000000</td>\n",
       "      <td>0.000000</td>\n",
       "      <td>0.000000</td>\n",
       "      <td>0.000000</td>\n",
       "      <td>0.000000</td>\n",
       "      <td>0.000000</td>\n",
       "      <td>0.000000</td>\n",
       "      <td>0.000000</td>\n",
       "      <td>0.000000</td>\n",
       "      <td>0.000000</td>\n",
       "      <td>0.000000</td>\n",
       "    </tr>\n",
       "    <tr>\n",
       "      <th>25%</th>\n",
       "      <td>11.000000</td>\n",
       "      <td>3.000000</td>\n",
       "      <td>64.000000</td>\n",
       "      <td>9.000000</td>\n",
       "      <td>8.000000</td>\n",
       "      <td>2.000000</td>\n",
       "      <td>3.000000</td>\n",
       "      <td>0.000000</td>\n",
       "      <td>4.000000</td>\n",
       "      <td>0.000000</td>\n",
       "      <td>0.000000</td>\n",
       "      <td>0.000000</td>\n",
       "      <td>39.000000</td>\n",
       "      <td>38.000000</td>\n",
       "      <td>0.000000</td>\n",
       "    </tr>\n",
       "    <tr>\n",
       "      <th>50%</th>\n",
       "      <td>20.000000</td>\n",
       "      <td>3.000000</td>\n",
       "      <td>128.000000</td>\n",
       "      <td>11.000000</td>\n",
       "      <td>9.000000</td>\n",
       "      <td>2.000000</td>\n",
       "      <td>6.000000</td>\n",
       "      <td>1.000000</td>\n",
       "      <td>4.000000</td>\n",
       "      <td>1.000000</td>\n",
       "      <td>0.000000</td>\n",
       "      <td>0.000000</td>\n",
       "      <td>39.000000</td>\n",
       "      <td>38.000000</td>\n",
       "      <td>0.000000</td>\n",
       "    </tr>\n",
       "    <tr>\n",
       "      <th>75%</th>\n",
       "      <td>31.000000</td>\n",
       "      <td>3.000000</td>\n",
       "      <td>192.000000</td>\n",
       "      <td>12.000000</td>\n",
       "      <td>11.000000</td>\n",
       "      <td>4.000000</td>\n",
       "      <td>9.000000</td>\n",
       "      <td>3.000000</td>\n",
       "      <td>4.000000</td>\n",
       "      <td>1.000000</td>\n",
       "      <td>0.000000</td>\n",
       "      <td>0.000000</td>\n",
       "      <td>44.000000</td>\n",
       "      <td>38.000000</td>\n",
       "      <td>0.000000</td>\n",
       "    </tr>\n",
       "    <tr>\n",
       "      <th>max</th>\n",
       "      <td>72.000000</td>\n",
       "      <td>7.000000</td>\n",
       "      <td>255.000000</td>\n",
       "      <td>15.000000</td>\n",
       "      <td>15.000000</td>\n",
       "      <td>6.000000</td>\n",
       "      <td>13.000000</td>\n",
       "      <td>5.000000</td>\n",
       "      <td>4.000000</td>\n",
       "      <td>1.000000</td>\n",
       "      <td>118.000000</td>\n",
       "      <td>91.000000</td>\n",
       "      <td>93.000000</td>\n",
       "      <td>40.000000</td>\n",
       "      <td>1.000000</td>\n",
       "    </tr>\n",
       "  </tbody>\n",
       "</table>\n",
       "</div>"
      ],
      "text/plain": [
       "                Age     Workclass        Fnlwgt     Education  Education_num  \\\n",
       "count  32560.000000  32560.000000  32560.000000  32560.000000   32560.000000   \n",
       "mean      21.580313      3.094349    127.627211     10.298249       9.080590   \n",
       "std       13.635711      1.107094     74.032147      3.870317       2.572709   \n",
       "min        0.000000      0.000000      0.000000      0.000000       0.000000   \n",
       "25%       11.000000      3.000000     64.000000      9.000000       8.000000   \n",
       "50%       20.000000      3.000000    128.000000     11.000000       9.000000   \n",
       "75%       31.000000      3.000000    192.000000     12.000000      11.000000   \n",
       "max       72.000000      7.000000    255.000000     15.000000      15.000000   \n",
       "\n",
       "       Marital_status    Occupation  Relationship          Race           Sex  \\\n",
       "count    32560.000000  32560.000000  32560.000000  32560.000000  32560.000000   \n",
       "mean         2.611794      6.138943      1.446376      3.665848      0.669195   \n",
       "std          1.506225      3.972623      1.606794      0.848817      0.470510   \n",
       "min          0.000000      0.000000      0.000000      0.000000      0.000000   \n",
       "25%          2.000000      3.000000      0.000000      4.000000      0.000000   \n",
       "50%          2.000000      6.000000      1.000000      4.000000      1.000000   \n",
       "75%          4.000000      9.000000      3.000000      4.000000      1.000000   \n",
       "max          6.000000     13.000000      5.000000      4.000000      1.000000   \n",
       "\n",
       "       Capital_gain  Capital_loss  Hours_per_week  Native_country  \\\n",
       "count  32560.000000  32560.000000    32560.000000    32560.000000   \n",
       "mean       6.500645      2.053348       39.377948       36.417107   \n",
       "std       23.300419     10.056712       12.144192        6.056133   \n",
       "min        0.000000      0.000000        0.000000        0.000000   \n",
       "25%        0.000000      0.000000       39.000000       38.000000   \n",
       "50%        0.000000      0.000000       39.000000       38.000000   \n",
       "75%        0.000000      0.000000       44.000000       38.000000   \n",
       "max      118.000000     91.000000       93.000000       40.000000   \n",
       "\n",
       "             Income  \n",
       "count  32560.000000  \n",
       "mean       0.240817  \n",
       "std        0.427586  \n",
       "min        0.000000  \n",
       "25%        0.000000  \n",
       "50%        0.000000  \n",
       "75%        0.000000  \n",
       "max        1.000000  "
      ]
     },
     "execution_count": 30,
     "metadata": {},
     "output_type": "execute_result"
    }
   ],
   "source": [
    "#lets check the statistical description of the each column\n",
    "pd.set_option(\"display.max_rows\", None, \"display.max_columns\", None)\n",
    "df.describe(include='all')"
   ]
  },
  {
   "cell_type": "code",
   "execution_count": null,
   "id": "d3e9b7e6",
   "metadata": {},
   "outputs": [],
   "source": [
    "#all the features do not contain any null value. \n",
    "# as per the thumb rule mean>std, only capital_gain & capital_loss fail in this; Hence, they both have major skewness.\n"
   ]
  },
  {
   "cell_type": "code",
   "execution_count": 31,
   "id": "71a9da02",
   "metadata": {},
   "outputs": [
    {
     "name": "stdout",
     "output_type": "stream",
     "text": [
      "0    24719\n",
      "1     7841\n",
      "Name: Income, dtype: int64\n"
     ]
    },
    {
     "data": {
      "image/png": "[encoded data removed]",
      "text/plain": [
       "<Figure size 432x288 with 1 Axes>"
      ]
     },
     "metadata": {
      "needs_background": "light"
     },
     "output_type": "display_data"
    }
   ],
   "source": [
    "#count of each class (Attrition(1) = 237, NoAttrition(0)=1233)\n",
    "ax=sns.countplot(x=\"Income\", data=df)\n",
    "print(df['Income'].value_counts())"
   ]
  },
  {
   "cell_type": "code",
   "execution_count": 32,
   "id": "ae5f08b9",
   "metadata": {},
   "outputs": [],
   "source": [
    "#There is a problem of class imbalance here and hence we would have to either do upsampling or downsampling depending on the size of the dataset.\n",
    "\n",
    "#Since the amount of upsampling needed would be around '3 times' we would be better doing downsampling to avoid any foreign data or unwanted data.\n",
    "\n",
    "# We will peform downsampling at a later stage"
   ]
  },
  {
   "cell_type": "code",
   "execution_count": 33,
   "id": "f375a322",
   "metadata": {},
   "outputs": [
    {
     "data": {
      "text/plain": [
       "<AxesSubplot:>"
      ]
     },
     "execution_count": 33,
     "metadata": {},
     "output_type": "execute_result"
    },
    {
     "data": {
      "image/png": "[encoded data removed]",
      "text/plain": [
       "<Figure size 1584x504 with 2 Axes>"
      ]
     },
     "metadata": {
      "needs_background": "light"
     },
     "output_type": "display_data"
    }
   ],
   "source": [
    "#Correlation using HEATMAP\n",
    "import matplotlib.pyplot as plt\n",
    "plt.figure(figsize=(22,7))\n",
    "sns.heatmap(df.corr(),annot=True,linewidth=0.1,linecolor=\"black\",fmt=\"0.2f\")"
   ]
  },
  {
   "cell_type": "code",
   "execution_count": 34,
   "id": "b308864f",
   "metadata": {},
   "outputs": [
    {
     "data": {
      "text/plain": [
       "Income            1.000000\n",
       "Capital_gain      0.340034\n",
       "Education_num     0.335182\n",
       "Relationship      0.250924\n",
       "Age               0.234136\n",
       "Hours_per_week    0.232394\n",
       "Sex               0.215995\n",
       "Marital_status    0.199295\n",
       "Capital_loss      0.162511\n",
       "Education         0.079311\n",
       "Race              0.071853\n",
       "Occupation        0.034599\n",
       "Native_country    0.023063\n",
       "Fnlwgt            0.005950\n",
       "Workclass         0.002739\n",
       "Name: Income, dtype: float64"
      ]
     },
     "execution_count": 34,
     "metadata": {},
     "output_type": "execute_result"
    }
   ],
   "source": [
    "#Correlation with the target column\n",
    "corr_mat=np.abs(df.corr())\n",
    "corr_mat['Income'].sort_values(ascending=False)"
   ]
  },
  {
   "cell_type": "code",
   "execution_count": 35,
   "id": "db0b213b",
   "metadata": {},
   "outputs": [],
   "source": [
    "#As per the above details, there is no feature which has high correlation with the target column.\n",
    "#Also, there is no major correlaton among the features "
   ]
  },
  {
   "cell_type": "markdown",
   "id": "7f793072",
   "metadata": {},
   "source": [
    "# DIVIDE DATA INTO FEATURES & LABEL"
   ]
  },
  {
   "cell_type": "code",
   "execution_count": 36,
   "id": "4b6b56da",
   "metadata": {},
   "outputs": [],
   "source": [
    "#diving the columns in feature and label\n",
    "X = df.drop(columns=['Income'])\n",
    "y = df['Income']"
   ]
  },
  {
   "cell_type": "markdown",
   "id": "5b6eccaf",
   "metadata": {},
   "source": [
    "# DATA VISUALIZATION"
   ]
  },
  {
   "cell_type": "code",
   "execution_count": 37,
   "id": "d279810b",
   "metadata": {},
   "outputs": [
    {
     "data": {
      "image/png": "[encoded data removed]",
      "text/plain": [
       "<Figure size 1440x2376 with 14 Axes>"
      ]
     },
     "metadata": {},
     "output_type": "display_data"
    }
   ],
   "source": [
    "#Visualizing relatinship between feature and label (SCATTER PLOT)\n",
    "\n",
    "plt.figure(figsize=(20,33),facecolor='white')\n",
    "plotnumber=1\n",
    "\n",
    "for column in X:\n",
    "\tif plotnumber<=30: \n",
    "\t\tax=plt.subplot(10,3,plotnumber)\n",
    "\t\tplt.scatter(X[column],y)\n",
    "\t\tplt.xlabel(column,fontsize=20)\n",
    "\t\tplt.ylabel('INCOME', fontsize=20)\n",
    "\tplotnumber+=1\n",
    "plt.tight_layout()"
   ]
  },
  {
   "cell_type": "raw",
   "id": "05e5cac6",
   "metadata": {},
   "source": [
    "OBSERVATIONS:- \n",
    "\n",
    "1) Age :- as age increases income increases\n",
    "but for age above 65 income decreases too\n",
    "\n",
    "2) Workclass :- for workclass 2, & 7 they have <=50k\n",
    "\n",
    "3) capital_gain :- people with income>50k have capital_gain above 60\n",
    "\n",
    "rest all the realations are almost linear to both"
   ]
  },
  {
   "cell_type": "code",
   "execution_count": 38,
   "id": "cf248133",
   "metadata": {},
   "outputs": [
    {
     "data": {
      "image/png": "[encoded data removed]",
      "text/plain": [
       "<Figure size 1440x2880 with 14 Axes>"
      ]
     },
     "metadata": {},
     "output_type": "display_data"
    }
   ],
   "source": [
    "#Visualise the distribution of data in the feature columns(DISTRIBUTION PLOT)\n",
    "\n",
    "plt.figure(figsize = (20,40), facecolor = 'white')\n",
    "plotnumber = 1\n",
    "\n",
    "for column in X:\n",
    "    if plotnumber<=30:\n",
    "        ax = plt.subplot(10,3,plotnumber)\n",
    "        sns.distplot(X[column])\n",
    "        plt.xlabel(column,fontsize=20)\n",
    "        \n",
    "    plotnumber+=1\n",
    "plt.tight_layout()"
   ]
  },
  {
   "cell_type": "code",
   "execution_count": 39,
   "id": "92aeb144",
   "metadata": {},
   "outputs": [
    {
     "data": {
      "text/plain": [
       "Capital_loss      5.266058\n",
       "Capital_gain      3.572186\n",
       "Relationship      0.786784\n",
       "Age               0.555583\n",
       "Workclass         0.076178\n",
       "Hours_per_week    0.069753\n",
       "Occupation        0.000536\n",
       "Fnlwgt            0.000464\n",
       "Marital_status   -0.013448\n",
       "Education_num    -0.311630\n",
       "Sex              -0.719244\n",
       "Education        -0.934063\n",
       "Race             -2.435332\n",
       "Native_country   -4.243083\n",
       "dtype: float64"
      ]
     },
     "execution_count": 39,
     "metadata": {},
     "output_type": "execute_result"
    }
   ],
   "source": [
    "#Checking skewness of the features\n",
    "X.skew().sort_values(ascending=False)"
   ]
  },
  {
   "cell_type": "code",
   "execution_count": 40,
   "id": "0881a936",
   "metadata": {},
   "outputs": [
    {
     "data": {
      "text/plain": [
       "Capital_loss      4.299512\n",
       "Capital_gain      3.017222\n",
       "Workclass         0.216967\n",
       "Hours_per_week    0.199586\n",
       "Relationship      0.122917\n",
       "Education_num     0.019545\n",
       "Age              -0.104049\n",
       "Marital_status   -0.114201\n",
       "Occupation       -0.237163\n",
       "Fnlwgt           -0.281773\n",
       "Education        -0.309431\n",
       "Sex              -0.719244\n",
       "Race             -2.010817\n",
       "Native_country   -2.981838\n",
       "dtype: float64"
      ]
     },
     "execution_count": 40,
     "metadata": {},
     "output_type": "execute_result"
    }
   ],
   "source": [
    "#We can see skewness in few of our columns, we will remove the skewness using power_transform function\n",
    "from sklearn.preprocessing import power_transform\n",
    "X_new = power_transform(X)\n",
    "X=pd.DataFrame(X_new,columns=X.columns)\n",
    "X.skew().sort_values(ascending=False) #validating that the skewness is removed"
   ]
  },
  {
   "cell_type": "code",
   "execution_count": 41,
   "id": "db03108c",
   "metadata": {},
   "outputs": [
    {
     "data": {
      "image/png": "[encoded data removed]",
      "text/plain": [
       "<Figure size 1080x3600 with 14 Axes>"
      ]
     },
     "metadata": {
      "needs_background": "light"
     },
     "output_type": "display_data"
    }
   ],
   "source": [
    "#Visualizing the outliers using BOXPLOT\n",
    "\n",
    "plt.figure(figsize=(15,50))\n",
    "graph=1\n",
    "\n",
    "for column in X:\n",
    "\tif graph<=30: \n",
    "\t\tax=plt.subplot(10,3,graph)\n",
    "\t\tsns.boxplot(X[column],orient='v')\n",
    "\t\tplt.xlabel(column,fontsize=10)\n",
    "\tgraph+=1\n",
    "plt.show()"
   ]
  },
  {
   "cell_type": "code",
   "execution_count": 42,
   "id": "60860571",
   "metadata": {},
   "outputs": [],
   "source": [
    "#We will not treat either the skewness nor the outliers because after the encoding is done, there will be abnormalities visible in the dataset.\n",
    "#but this abnormality is due to the encoding and these encoded datas are important in the prediction later."
   ]
  },
  {
   "cell_type": "code",
   "execution_count": 43,
   "id": "859c107a",
   "metadata": {},
   "outputs": [],
   "source": [
    "#Data Scaling\n",
    "scaler = StandardScaler()\n",
    "X = scaler.fit_transform(X)"
   ]
  },
  {
   "cell_type": "code",
   "execution_count": 44,
   "id": "39955369",
   "metadata": {},
   "outputs": [
    {
     "name": "stdout",
     "output_type": "stream",
     "text": [
      "Best accuracy is 0.8413697788697788 on Random State 109\n"
     ]
    }
   ],
   "source": [
    "#Finding best random_state\n",
    "from sklearn.linear_model import LogisticRegression\n",
    "from sklearn.metrics import accuracy_score, confusion_matrix, classification_report\n",
    "from sklearn.model_selection import train_test_split\n",
    "\n",
    "maxAccu=0 #maximum accuracy\n",
    "maxRS=0 #best random state value for which max accuracy is acheived \n",
    "for i in range(1,200):\n",
    "\tx_train,x_test,y_train,y_test = train_test_split(X,y,test_size=0.20,random_state=i)\n",
    "\tLR = LogisticRegression()\n",
    "\tLR.fit(x_train,y_train)\n",
    "\tpredrf=LR.predict(x_test)\n",
    "\tacc=accuracy_score(y_test,predrf)\n",
    "\tif acc>maxAccu:\n",
    "\t\tmaxAccu=acc\n",
    "\t\tmaxRS=i\n",
    "print(\"Best accuracy is\", maxAccu,\"on Random State\", maxRS)"
   ]
  },
  {
   "cell_type": "code",
   "execution_count": 45,
   "id": "760df151",
   "metadata": {},
   "outputs": [],
   "source": [
    "#CREATING TRAIN-TEST SPLIT\n",
    "x_train_imb, x_test, y_train_imb, y_test =  train_test_split(X, y, test_size=0.20, random_state=123)"
   ]
  },
  {
   "cell_type": "code",
   "execution_count": 46,
   "id": "3c50408c",
   "metadata": {},
   "outputs": [
    {
     "name": "stdout",
     "output_type": "stream",
     "text": [
      "(26048, 14)\n",
      "(26048,)\n",
      "(6512, 14)\n",
      "(6512,)\n"
     ]
    }
   ],
   "source": [
    "print(x_train_imb.shape)\n",
    "print(y_train_imb.shape)\n",
    "print(x_test.shape)\n",
    "print(y_test.shape)"
   ]
  },
  {
   "cell_type": "markdown",
   "id": "96fdf2cb",
   "metadata": {},
   "source": [
    "# USING SMOTE FOR DOWN-SAMPLING"
   ]
  },
  {
   "cell_type": "code",
   "execution_count": 47,
   "id": "40e3bab4",
   "metadata": {},
   "outputs": [],
   "source": [
    "#conda install -c conda-forge imbalanced-learn"
   ]
  },
  {
   "cell_type": "code",
   "execution_count": 48,
   "id": "ccb870db",
   "metadata": {},
   "outputs": [
    {
     "name": "stdout",
     "output_type": "stream",
     "text": [
      "0    24719\n",
      "1     7841\n",
      "Name: Income, dtype: int64\n"
     ]
    },
    {
     "data": {
      "image/png": "[encoded data removed]",
      "text/plain": [
       "<Figure size 432x288 with 1 Axes>"
      ]
     },
     "metadata": {
      "needs_background": "light"
     },
     "output_type": "display_data"
    }
   ],
   "source": [
    "#count of each class (Attrition(1) = 237, NoAttrition(0)=1233)\n",
    "ax=sns.countplot(x=\"Income\", data=df)\n",
    "print(df['Income'].value_counts())"
   ]
  },
  {
   "cell_type": "code",
   "execution_count": 49,
   "id": "c0f9fe11",
   "metadata": {},
   "outputs": [],
   "source": [
    "# We will be doing down sampling of the target column which has imblanced class"
   ]
  },
  {
   "cell_type": "code",
   "execution_count": 50,
   "id": "df3ad6c1",
   "metadata": {},
   "outputs": [],
   "source": [
    "#USING SMOTE FOR DOWN-SAMPLING"
   ]
  },
  {
   "cell_type": "code",
   "execution_count": 51,
   "id": "4ab6dcf0",
   "metadata": {},
   "outputs": [
    {
     "name": "stdout",
     "output_type": "stream",
     "text": [
      "0    19749\n",
      "1     6299\n",
      "Name: Income, dtype: int64\n"
     ]
    }
   ],
   "source": [
    "print(y_train_imb.value_counts())"
   ]
  },
  {
   "cell_type": "code",
   "execution_count": 52,
   "id": "c81d86f5",
   "metadata": {},
   "outputs": [],
   "source": [
    "#y_train has 19749 entries of class 0 and only 6299 entries of class 1"
   ]
  },
  {
   "cell_type": "code",
   "execution_count": 53,
   "id": "1b19ddea",
   "metadata": {},
   "outputs": [
    {
     "name": "stdout",
     "output_type": "stream",
     "text": [
      "The no of samples before fit() Counter({0: 19749, 1: 6299})\n",
      "The no of samples after fit() Counter({0: 6362, 1: 6299})\n"
     ]
    }
   ],
   "source": [
    "import imblearn\n",
    "from imblearn.under_sampling import RandomUnderSampler\n",
    "sm = RandomUnderSampler()\n",
    "down_smp=RandomUnderSampler(0.99)\n",
    "x_train_ns,y_train_ns=down_smp.fit_sample(x_train_imb,y_train_imb)\n",
    "from collections import Counter\n",
    "print('The no of samples before fit()', format(Counter(y_train_imb)))\n",
    "print('The no of samples after fit()', format(Counter(y_train_ns)))"
   ]
  },
  {
   "cell_type": "code",
   "execution_count": 54,
   "id": "fd36ccc8",
   "metadata": {},
   "outputs": [
    {
     "name": "stdout",
     "output_type": "stream",
     "text": [
      "0    6362\n",
      "1    6299\n",
      "Name: Income, dtype: int64\n"
     ]
    }
   ],
   "source": [
    "print(y_train_ns.value_counts())"
   ]
  },
  {
   "cell_type": "code",
   "execution_count": 55,
   "id": "9c365596",
   "metadata": {},
   "outputs": [],
   "source": [
    "#Now both the classes have 6362 and 6299 entries and hence we have a balanced class in our training data."
   ]
  },
  {
   "cell_type": "code",
   "execution_count": 57,
   "id": "b60dad7e",
   "metadata": {},
   "outputs": [],
   "source": [
    "# Using shallow copy or deep copy\n",
    "import copy\n",
    "x_train = copy.copy(x_train_ns)\n",
    "y_train = copy.copy(y_train_ns)"
   ]
  },
  {
   "cell_type": "code",
   "execution_count": 58,
   "id": "78176244",
   "metadata": {},
   "outputs": [
    {
     "name": "stdout",
     "output_type": "stream",
     "text": [
      "(12661, 14)\n",
      "(12661,)\n",
      "(6512, 14)\n",
      "(6512,)\n"
     ]
    }
   ],
   "source": [
    "print(x_train.shape)\n",
    "print(y_train.shape)\n",
    "print(x_test.shape)\n",
    "print(y_test.shape)"
   ]
  },
  {
   "cell_type": "markdown",
   "id": "9ec26636",
   "metadata": {},
   "source": [
    "# APPLYING CLASSIFICATION MODELS & FINDING BEST FIT MODEL"
   ]
  },
  {
   "cell_type": "code",
   "execution_count": 59,
   "id": "212d4950",
   "metadata": {},
   "outputs": [],
   "source": [
    "results = pd.DataFrame()\n",
    "model_name=[]\n",
    "accuracy=[]\n",
    "cvs=[]"
   ]
  },
  {
   "cell_type": "code",
   "execution_count": 60,
   "id": "b233188f",
   "metadata": {},
   "outputs": [
    {
     "name": "stdout",
     "output_type": "stream",
     "text": [
      "[[3800 1170]\n",
      " [ 330 1212]]\n",
      "              precision    recall  f1-score   support\n",
      "\n",
      "           0       0.92      0.76      0.84      4970\n",
      "           1       0.51      0.79      0.62      1542\n",
      "\n",
      "    accuracy                           0.77      6512\n",
      "   macro avg       0.71      0.78      0.73      6512\n",
      "weighted avg       0.82      0.77      0.78      6512\n",
      "\n"
     ]
    }
   ],
   "source": [
    "#LOGISTIC REGRESSION\n",
    "LR = LogisticRegression()\n",
    "LR.fit(x_train,y_train)\n",
    "y_pred=LR.predict(x_test)\n",
    "accuracy_LR = accuracy_score(y_test,y_pred)*100\n",
    "scr = cross_val_score(LR,X,y,cv=5)\n",
    "print(confusion_matrix(y_test,y_pred))\n",
    "print(classification_report(y_test,y_pred))\n",
    "model_name.append(\"Logistic Regression\")\n",
    "accuracy.append(accuracy_LR)\n",
    "cvs.append(scr.mean())"
   ]
  },
  {
   "cell_type": "code",
   "execution_count": 61,
   "id": "d9ddda58",
   "metadata": {},
   "outputs": [
    {
     "name": "stdout",
     "output_type": "stream",
     "text": [
      "[[3762 1208]\n",
      " [ 374 1168]]\n",
      "              precision    recall  f1-score   support\n",
      "\n",
      "           0       0.91      0.76      0.83      4970\n",
      "           1       0.49      0.76      0.60      1542\n",
      "\n",
      "    accuracy                           0.76      6512\n",
      "   macro avg       0.70      0.76      0.71      6512\n",
      "weighted avg       0.81      0.76      0.77      6512\n",
      "\n"
     ]
    }
   ],
   "source": [
    "#DECISION TREE CLASSIFIER\n",
    "from sklearn.tree import DecisionTreeClassifier\n",
    "dt=DecisionTreeClassifier()\n",
    "dt.fit(x_train,y_train)\n",
    "y_pred_dt=dt.predict(x_test)\n",
    "accuracy_dt = accuracy_score(y_test,y_pred_dt)*100\n",
    "scr2 = cross_val_score(dt,X,y,cv=5)\n",
    "print(confusion_matrix(y_test,y_pred_dt))\n",
    "print(classification_report(y_test,y_pred_dt))\n",
    "model_name.append(\"Decistion Tree Classifier\")\n",
    "accuracy.append(accuracy_dt)\n",
    "cvs.append(scr2.mean())"
   ]
  },
  {
   "cell_type": "code",
   "execution_count": 62,
   "id": "3f298088",
   "metadata": {},
   "outputs": [
    {
     "name": "stdout",
     "output_type": "stream",
     "text": [
      "[[3920 1050]\n",
      " [ 224 1318]]\n",
      "              precision    recall  f1-score   support\n",
      "\n",
      "           0       0.95      0.79      0.86      4970\n",
      "           1       0.56      0.85      0.67      1542\n",
      "\n",
      "    accuracy                           0.80      6512\n",
      "   macro avg       0.75      0.82      0.77      6512\n",
      "weighted avg       0.85      0.80      0.82      6512\n",
      "\n"
     ]
    }
   ],
   "source": [
    "#RANDOM FOREST CLASSIFIER\n",
    "from sklearn.ensemble import RandomForestClassifier\n",
    "rf = RandomForestClassifier()\n",
    "rf.fit(x_train,y_train)\n",
    "y_pred_rf = rf.predict(x_test)\n",
    "accuracy_rf = accuracy_score(y_test,y_pred_rf)*100\n",
    "scr3 = cross_val_score(rf,X,y,cv=5)\n",
    "print(confusion_matrix(y_test,y_pred_rf))\n",
    "print(classification_report(y_test,y_pred_rf))\n",
    "model_name.append(\"Random Forest Classifier\")\n",
    "accuracy.append(accuracy_rf)\n",
    "cvs.append(scr3.mean())"
   ]
  },
  {
   "cell_type": "code",
   "execution_count": 63,
   "id": "5ebc1c14",
   "metadata": {},
   "outputs": [
    {
     "name": "stdout",
     "output_type": "stream",
     "text": [
      "[[3692 1278]\n",
      " [ 183 1359]]\n",
      "              precision    recall  f1-score   support\n",
      "\n",
      "           0       0.95      0.74      0.83      4970\n",
      "           1       0.52      0.88      0.65      1542\n",
      "\n",
      "    accuracy                           0.78      6512\n",
      "   macro avg       0.73      0.81      0.74      6512\n",
      "weighted avg       0.85      0.78      0.79      6512\n",
      "\n"
     ]
    }
   ],
   "source": [
    "#SVC\n",
    "from sklearn.svm import SVC\n",
    "svc = SVC()\n",
    "svc.fit(x_train,y_train)\n",
    "y_pred_svc = svc.predict(x_test)\n",
    "accuracy_svc = accuracy_score(y_test,y_pred_svc)*100\n",
    "scr4 = cross_val_score(svc,X,y,cv=5)\n",
    "print(confusion_matrix(y_test,y_pred_svc))\n",
    "print(classification_report(y_test,y_pred_svc))\n",
    "model_name.append(\"SVC\")\n",
    "accuracy.append(accuracy_svc)\n",
    "cvs.append(scr4.mean())"
   ]
  },
  {
   "cell_type": "code",
   "execution_count": 64,
   "id": "9f527142",
   "metadata": {},
   "outputs": [
    {
     "data": {
      "text/html": [
       "<div>\n",
       "<style scoped>\n",
       "    .dataframe tbody tr th:only-of-type {\n",
       "        vertical-align: middle;\n",
       "    }\n",
       "\n",
       "    .dataframe tbody tr th {\n",
       "        vertical-align: top;\n",
       "    }\n",
       "\n",
       "    .dataframe thead th {\n",
       "        text-align: right;\n",
       "    }\n",
       "</style>\n",
       "<table border=\"1\" class=\"dataframe\">\n",
       "  <thead>\n",
       "    <tr style=\"text-align: right;\">\n",
       "      <th></th>\n",
       "      <th>Model Name</th>\n",
       "      <th>Accuracy</th>\n",
       "      <th>Cross Value Score</th>\n",
       "    </tr>\n",
       "  </thead>\n",
       "  <tbody>\n",
       "    <tr>\n",
       "      <th>0</th>\n",
       "      <td>Logistic Regression</td>\n",
       "      <td>76.965602</td>\n",
       "      <td>0.825123</td>\n",
       "    </tr>\n",
       "    <tr>\n",
       "      <th>1</th>\n",
       "      <td>Decistion Tree Classifier</td>\n",
       "      <td>75.706388</td>\n",
       "      <td>0.804269</td>\n",
       "    </tr>\n",
       "    <tr>\n",
       "      <th>2</th>\n",
       "      <td>Random Forest Classifier</td>\n",
       "      <td>80.436118</td>\n",
       "      <td>0.852303</td>\n",
       "    </tr>\n",
       "    <tr>\n",
       "      <th>3</th>\n",
       "      <td>SVC</td>\n",
       "      <td>77.564496</td>\n",
       "      <td>0.834828</td>\n",
       "    </tr>\n",
       "  </tbody>\n",
       "</table>\n",
       "</div>"
      ],
      "text/plain": [
       "                  Model Name   Accuracy  Cross Value Score\n",
       "0        Logistic Regression  76.965602           0.825123\n",
       "1  Decistion Tree Classifier  75.706388           0.804269\n",
       "2   Random Forest Classifier  80.436118           0.852303\n",
       "3                        SVC  77.564496           0.834828"
      ]
     },
     "execution_count": 64,
     "metadata": {},
     "output_type": "execute_result"
    }
   ],
   "source": [
    "results['Model Name'] = model_name\n",
    "results['Accuracy'] = accuracy\n",
    "results['Cross Value Score'] = cvs\n",
    "results"
   ]
  },
  {
   "cell_type": "code",
   "execution_count": 65,
   "id": "fb646677",
   "metadata": {},
   "outputs": [],
   "source": [
    "#As per the above results, Random Forest Classifier is giving the best accuracy."
   ]
  },
  {
   "cell_type": "code",
   "execution_count": 66,
   "id": "ebbe1302",
   "metadata": {},
   "outputs": [],
   "source": [
    "#Lets try to improve the accuracy score by using GridSearchCV over RF classifier"
   ]
  },
  {
   "cell_type": "code",
   "execution_count": 67,
   "id": "6279368e",
   "metadata": {},
   "outputs": [
    {
     "name": "stdout",
     "output_type": "stream",
     "text": [
      "best_params=> {'criterion': 'gini', 'max_depth': 15, 'min_samples_leaf': 6, 'min_samples_split': 11, 'n_estimators': 13}\n",
      "\n",
      " Conf Mat =>\n",
      " [[6993  433]\n",
      " [ 967 1375]]\n",
      "\n",
      " Accuracy rf Normal => 0.8566748566748567\n",
      "              precision    recall  f1-score   support\n",
      "\n",
      "           0       0.88      0.94      0.91      7426\n",
      "           1       0.76      0.59      0.66      2342\n",
      "\n",
      "    accuracy                           0.86      9768\n",
      "   macro avg       0.82      0.76      0.79      9768\n",
      "weighted avg       0.85      0.86      0.85      9768\n",
      "\n"
     ]
    }
   ],
   "source": [
    "#Let's tune the parameter using GridSearchCV\n",
    "#RandomForestClassifier\n",
    "x_train, x_test, y_train, y_test = train_test_split(X,y,test_size=0.30, random_state=41)\n",
    "clf= RandomForestClassifier()\n",
    "params = { 'n_estimators': [13,15],\n",
    "\t\t\t'criterion': ['entropy', 'gini'],\n",
    "\t\t\t'max_depth': [10,15],\n",
    "\t\t\t'min_samples_split':[10,11],\n",
    "\t\t\t'min_samples_leaf':[5,6]\n",
    "\t\t}\n",
    "grid=GridSearchCV(clf,param_grid=params)\n",
    "grid.fit(x_train,y_train)\n",
    "print('best_params=>', grid.best_params_)\n",
    "clf=grid.best_estimator_\n",
    "clf.fit(x_train,y_train)\n",
    "y_pred_gscv=clf.predict(x_test)\n",
    "rf_conf_mat=confusion_matrix(y_test,y_pred_gscv)\n",
    "print('\\n Conf Mat =>''\\n', rf_conf_mat)\n",
    "print('\\n' ' Accuracy rf Normal =>', accuracy_score(y_test,y_pred_gscv))\n",
    "\n",
    "report = classification_report(y_test,y_pred_gscv)\n",
    "print(report)"
   ]
  },
  {
   "cell_type": "markdown",
   "id": "2fef2ce4",
   "metadata": {},
   "source": [
    "# SAVE THE MODEL"
   ]
  },
  {
   "cell_type": "code",
   "execution_count": 68,
   "id": "e5a5144e",
   "metadata": {},
   "outputs": [
    {
     "data": {
      "text/plain": [
       "['Census_Income_Project.obj']"
      ]
     },
     "execution_count": 68,
     "metadata": {},
     "output_type": "execute_result"
    }
   ],
   "source": [
    "import joblib\n",
    "joblib.dump(clf,'Census_Income_Project.obj')"
   ]
  },
  {
   "cell_type": "code",
   "execution_count": null,
   "id": "c19d948c",
   "metadata": {},
   "outputs": [],
   "source": []
  }
 ],
 "metadata": {
  "kernelspec": {
   "display_name": "Python 3",
   "language": "python",
   "name": "python3"
  },
  "language_info": {
   "codemirror_mode": {
    "name": "ipython",
    "version": 3
   },
   "file_extension": ".py",
   "mimetype": "text/x-python",
   "name": "python",
   "nbconvert_exporter": "python",
   "pygments_lexer": "ipython3",
   "version": "3.8.8"
  }
 },
 "nbformat": 4,
 "nbformat_minor": 5
}
